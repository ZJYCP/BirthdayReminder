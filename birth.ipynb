{
 "cells": [
  {
   "cell_type": "code",
   "execution_count": 7,
   "metadata": {},
   "outputs": [],
   "source": [
    "import pymysql\n",
    "import time\n"
   ]
  },
  {
   "cell_type": "code",
   "execution_count": 8,
   "metadata": {},
   "outputs": [],
   "source": [
    "class MysqlSearch(object):\n",
    "\n",
    "    def __init__(self):\n",
    "        self.get_conn()\n",
    "        self.today=time.strftime(\"%m%d\", time.localtime())\n",
    "    \n",
    "    def get_conn(self):\n",
    "        \"\"\" 获取连接 \"\"\"\n",
    "        try:\n",
    "            self.conn = pymysql.connect(\n",
    "                host='localhost',\n",
    "                port=3306,\n",
    "                user='birth',\n",
    "                passwd='birth',\n",
    "                db='birth',\n",
    "                charset='utf8')\n",
    "        except Exception as e:\n",
    "            print('Error:%s' %e)\n",
    "\n",
    "    def close_conn(self):\n",
    "        try:\n",
    "            # 关闭连接\n",
    "            if self.conn:\n",
    "                self.conn.close()\n",
    "        except Exception as e:\n",
    "            print('Error: %s' %e)\n",
    "    \n",
    "    def get_person(self):\n",
    "        sql = 'SELECT * FROM user WHERE birth=\"%s\"'%(self.today)\n",
    "        cursor = self.conn.cursor()\n",
    "        cursor.execute(sql)\n",
    "        data = cursor.fetchall()\n",
    "        data = [dict(zip([k[0] for k in cursor.description], row)) for row in data]\n",
    "        cursor.close()\n",
    "        self.close_conn()\n",
    "        return data\n"
   ]
  },
  {
   "cell_type": "code",
   "execution_count": 9,
   "metadata": {},
   "outputs": [],
   "source": [
    "sql=MysqlSearch()\n",
    "lucky_person=sql.get_person()\n",
    "# print(lucky_person)"
   ]
  },
  {
   "cell_type": "code",
   "execution_count": 10,
   "metadata": {},
   "outputs": [
    {
     "name": "stdout",
     "output_type": "stream",
     "text": [
      "邮件发送成功\n"
     ]
    }
   ],
   "source": [
    "import smtplib\n",
    "from email.mime.text import MIMEText\n",
    "from email.header import Header\n",
    " \n",
    "# 第三方 SMTP 服务\n",
    "mail_host=\"smtp.exmail.qq.com\"  #设置服务器\n",
    "mail_user=\"####@###.com\"    #用户名\n",
    "mail_pass=\"#######\"   #口令 \n",
    " \n",
    " \n",
    "sender = '###@###.com'\n",
    "receivers = ['###@###.com']  # 接收邮箱\n",
    "\n",
    "mail_msg='''\n",
    "<table border=\"2\">\n",
    "  <tr>\n",
    "    <th>uid</th>\n",
    "    <th>姓名</th>\n",
    "    <th>备注</th>\n",
    "  </tr>\n",
    "'''\n",
    "\n",
    "for i in lucky_person:\n",
    "    mail_msg+='''\n",
    "      <tr>\n",
    "        <td>%s</td>\n",
    "        <td>%s</td>\n",
    "        <td>%s</td>\n",
    "      </tr>\n",
    "    '''%(i['uid'],i['name'],i['ps'])\n",
    "mail_msg+='</table>'\n",
    " \n",
    "message = MIMEText(mail_msg, 'html', 'utf-8')\n",
    "message['From'] = Header(\"birthReminder\", 'utf-8')\n",
    "message['To'] =  Header(\"余生\", 'utf-8')\n",
    " \n",
    "subject = '你的这些好友今天生日...'\n",
    "message['Subject'] = Header(subject, 'utf-8')\n",
    " \n",
    " \n",
    "try:\n",
    "    smtpObj = smtplib.SMTP_SSL(host=mail_host) \n",
    "    smtpObj.connect(mail_host, 465)    # 465 为 SMTP 端口号\n",
    "    \n",
    "    smtpObj.login(mail_user,mail_pass)\n",
    "\n",
    "    smtpObj.sendmail(sender, receivers, message.as_string())\n",
    "    \n",
    "    print (\"邮件发送成功\")\n",
    "except smtplib.SMTPException:\n",
    "    print (\"Error: 无法发送邮件\")"
   ]
  }
 ],
 "metadata": {
  "kernelspec": {
   "display_name": "Python 3",
   "language": "python",
   "name": "python3"
  },
  "language_info": {
   "codemirror_mode": {
    "name": "ipython",
    "version": 3
   },
   "file_extension": ".py",
   "mimetype": "text/x-python",
   "name": "python",
   "nbconvert_exporter": "python",
   "pygments_lexer": "ipython3",
   "version": "3.7.4"
  }
 },
 "nbformat": 4,
 "nbformat_minor": 2
}
